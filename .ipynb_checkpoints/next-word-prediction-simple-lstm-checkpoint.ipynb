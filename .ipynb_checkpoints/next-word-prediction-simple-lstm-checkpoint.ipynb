{
 "cells": [
  {
   "cell_type": "code",
   "execution_count": 1,
   "metadata": {
    "_cell_guid": "b1076dfc-b9ad-4769-8c92-a6c4dae69d19",
    "_uuid": "8f2839f25d086af736a60e9eeb907d3b93b6e0e5",
    "execution": {
     "iopub.execute_input": "2021-08-15T06:01:42.941588Z",
     "iopub.status.busy": "2021-08-15T06:01:42.941108Z",
     "iopub.status.idle": "2021-08-15T06:01:47.401922Z",
     "shell.execute_reply": "2021-08-15T06:01:47.401082Z",
     "shell.execute_reply.started": "2021-08-15T06:01:42.941462Z"
    }
   },
   "outputs": [],
   "source": [
    "import pandas as pd\n",
    "import os\n",
    "import numpy as np\n",
    "\n",
    "import tensorflow as tf\n",
    "from tensorflow.keras.preprocessing.sequence import pad_sequences\n",
    "from tensorflow.keras.layers import Embedding, LSTM, Dense, Bidirectional\n",
    "from tensorflow.keras.preprocessing.text import Tokenizer\n",
    "from tensorflow.keras.models import Sequential\n",
    "from tensorflow.keras.optimizers import Adam"
   ]
  },
  {
   "cell_type": "code",
   "execution_count": 2,
   "metadata": {
    "execution": {
     "iopub.execute_input": "2021-08-15T06:01:47.403731Z",
     "iopub.status.busy": "2021-08-15T06:01:47.403383Z",
     "iopub.status.idle": "2021-08-15T06:01:47.508925Z",
     "shell.execute_reply": "2021-08-15T06:01:47.507977Z",
     "shell.execute_reply.started": "2021-08-15T06:01:47.403696Z"
    }
   },
   "outputs": [
    {
     "data": {
      "text/html": [
       "<div>\n",
       "<style scoped>\n",
       "    .dataframe tbody tr th:only-of-type {\n",
       "        vertical-align: middle;\n",
       "    }\n",
       "\n",
       "    .dataframe tbody tr th {\n",
       "        vertical-align: top;\n",
       "    }\n",
       "\n",
       "    .dataframe thead th {\n",
       "        text-align: right;\n",
       "    }\n",
       "</style>\n",
       "<table border=\"1\" class=\"dataframe\">\n",
       "  <thead>\n",
       "    <tr style=\"text-align: right;\">\n",
       "      <th></th>\n",
       "      <th>id</th>\n",
       "      <th>url</th>\n",
       "      <th>title</th>\n",
       "      <th>subtitle</th>\n",
       "      <th>image</th>\n",
       "      <th>claps</th>\n",
       "      <th>responses</th>\n",
       "      <th>reading_time</th>\n",
       "      <th>publication</th>\n",
       "      <th>date</th>\n",
       "    </tr>\n",
       "  </thead>\n",
       "  <tbody>\n",
       "    <tr>\n",
       "      <th>0</th>\n",
       "      <td>1</td>\n",
       "      <td>https://towardsdatascience.com/a-beginners-gui...</td>\n",
       "      <td>A Beginner’s Guide to Word Embedding with Gens...</td>\n",
       "      <td>NaN</td>\n",
       "      <td>1.png</td>\n",
       "      <td>850</td>\n",
       "      <td>8</td>\n",
       "      <td>8</td>\n",
       "      <td>Towards Data Science</td>\n",
       "      <td>2019-05-30</td>\n",
       "    </tr>\n",
       "    <tr>\n",
       "      <th>1</th>\n",
       "      <td>2</td>\n",
       "      <td>https://towardsdatascience.com/hands-on-graph-...</td>\n",
       "      <td>Hands-on Graph Neural Networks with PyTorch &amp; ...</td>\n",
       "      <td>NaN</td>\n",
       "      <td>2.png</td>\n",
       "      <td>1100</td>\n",
       "      <td>11</td>\n",
       "      <td>9</td>\n",
       "      <td>Towards Data Science</td>\n",
       "      <td>2019-05-30</td>\n",
       "    </tr>\n",
       "    <tr>\n",
       "      <th>2</th>\n",
       "      <td>3</td>\n",
       "      <td>https://towardsdatascience.com/how-to-use-ggpl...</td>\n",
       "      <td>How to Use ggplot2 in Python</td>\n",
       "      <td>A Grammar of Graphics for Python</td>\n",
       "      <td>3.png</td>\n",
       "      <td>767</td>\n",
       "      <td>1</td>\n",
       "      <td>5</td>\n",
       "      <td>Towards Data Science</td>\n",
       "      <td>2019-05-30</td>\n",
       "    </tr>\n",
       "    <tr>\n",
       "      <th>3</th>\n",
       "      <td>4</td>\n",
       "      <td>https://towardsdatascience.com/databricks-how-...</td>\n",
       "      <td>Databricks: How to Save Files in CSV on Your L...</td>\n",
       "      <td>When I work on Python projects dealing…</td>\n",
       "      <td>4.jpeg</td>\n",
       "      <td>354</td>\n",
       "      <td>0</td>\n",
       "      <td>4</td>\n",
       "      <td>Towards Data Science</td>\n",
       "      <td>2019-05-30</td>\n",
       "    </tr>\n",
       "    <tr>\n",
       "      <th>4</th>\n",
       "      <td>5</td>\n",
       "      <td>https://towardsdatascience.com/a-step-by-step-...</td>\n",
       "      <td>A Step-by-Step Implementation of Gradient Desc...</td>\n",
       "      <td>One example of building neural…</td>\n",
       "      <td>5.jpeg</td>\n",
       "      <td>211</td>\n",
       "      <td>3</td>\n",
       "      <td>4</td>\n",
       "      <td>Towards Data Science</td>\n",
       "      <td>2019-05-30</td>\n",
       "    </tr>\n",
       "  </tbody>\n",
       "</table>\n",
       "</div>"
      ],
      "text/plain": [
       "   id                                                url  \\\n",
       "0   1  https://towardsdatascience.com/a-beginners-gui...   \n",
       "1   2  https://towardsdatascience.com/hands-on-graph-...   \n",
       "2   3  https://towardsdatascience.com/how-to-use-ggpl...   \n",
       "3   4  https://towardsdatascience.com/databricks-how-...   \n",
       "4   5  https://towardsdatascience.com/a-step-by-step-...   \n",
       "\n",
       "                                               title  \\\n",
       "0  A Beginner’s Guide to Word Embedding with Gens...   \n",
       "1  Hands-on Graph Neural Networks with PyTorch & ...   \n",
       "2                       How to Use ggplot2 in Python   \n",
       "3  Databricks: How to Save Files in CSV on Your L...   \n",
       "4  A Step-by-Step Implementation of Gradient Desc...   \n",
       "\n",
       "                                  subtitle   image  claps responses  \\\n",
       "0                                      NaN   1.png    850         8   \n",
       "1                                      NaN   2.png   1100        11   \n",
       "2         A Grammar of Graphics for Python   3.png    767         1   \n",
       "3  When I work on Python projects dealing…  4.jpeg    354         0   \n",
       "4          One example of building neural…  5.jpeg    211         3   \n",
       "\n",
       "   reading_time           publication        date  \n",
       "0             8  Towards Data Science  2019-05-30  \n",
       "1             9  Towards Data Science  2019-05-30  \n",
       "2             5  Towards Data Science  2019-05-30  \n",
       "3             4  Towards Data Science  2019-05-30  \n",
       "4             4  Towards Data Science  2019-05-30  "
      ]
     },
     "execution_count": 2,
     "metadata": {},
     "output_type": "execute_result"
    }
   ],
   "source": [
    "medium_data = pd.read_csv('./medium_data.csv')\n",
    "medium_data.head()"
   ]
  },
  {
   "cell_type": "code",
   "execution_count": 3,
   "metadata": {
    "execution": {
     "iopub.execute_input": "2021-08-15T06:01:47.511158Z",
     "iopub.status.busy": "2021-08-15T06:01:47.510826Z",
     "iopub.status.idle": "2021-08-15T06:01:47.519247Z",
     "shell.execute_reply": "2021-08-15T06:01:47.518321Z",
     "shell.execute_reply.started": "2021-08-15T06:01:47.511125Z"
    }
   },
   "outputs": [
    {
     "name": "stdout",
     "output_type": "stream",
     "text": [
      "Number of records:  6508\n",
      "Number of fields:  10\n"
     ]
    }
   ],
   "source": [
    "print(\"Number of records: \", medium_data.shape[0])\n",
    "print(\"Number of fields: \", medium_data.shape[1])"
   ]
  },
  {
   "cell_type": "code",
   "execution_count": 4,
   "metadata": {
    "execution": {
     "iopub.execute_input": "2021-08-15T06:01:47.521227Z",
     "iopub.status.busy": "2021-08-15T06:01:47.520873Z",
     "iopub.status.idle": "2021-08-15T06:01:47.532676Z",
     "shell.execute_reply": "2021-08-15T06:01:47.531720Z",
     "shell.execute_reply.started": "2021-08-15T06:01:47.521192Z"
    }
   },
   "outputs": [
    {
     "data": {
      "text/plain": [
       "0       A Beginner’s Guide to Word Embedding with Gens...\n",
       "1       Hands-on Graph Neural Networks with PyTorch & ...\n",
       "2                            How to Use ggplot2 in Python\n",
       "3       Databricks: How to Save Files in CSV on Your L...\n",
       "4       A Step-by-Step Implementation of Gradient Desc...\n",
       "                              ...                        \n",
       "6503    “We” vs “I” — How Should You Talk About Yourse...\n",
       "6504                     How Donald Trump Markets Himself\n",
       "6505        Content and Marketing Beyond Mass Consumption\n",
       "6506    5 Questions All Copywriters Should Ask Clients...\n",
       "6507               How To Write a Good Business Blog Post\n",
       "Name: title, Length: 6508, dtype: object"
      ]
     },
     "execution_count": 4,
     "metadata": {},
     "output_type": "execute_result"
    }
   ],
   "source": [
    "medium_data['title']"
   ]
  },
  {
   "cell_type": "code",
   "execution_count": 5,
   "metadata": {
    "execution": {
     "iopub.execute_input": "2021-08-15T06:01:47.534329Z",
     "iopub.status.busy": "2021-08-15T06:01:47.533991Z",
     "iopub.status.idle": "2021-08-15T06:01:47.548767Z",
     "shell.execute_reply": "2021-08-15T06:01:47.547944Z",
     "shell.execute_reply.started": "2021-08-15T06:01:47.534293Z"
    }
   },
   "outputs": [],
   "source": [
    "medium_data['title'] = medium_data['title'].apply(lambda x: x.replace(u'\\xa0',u' '))\n",
    "medium_data['title'] = medium_data['title'].apply(lambda x: x.replace('\\u200a',' '))"
   ]
  },
  {
   "cell_type": "code",
   "execution_count": 6,
   "metadata": {
    "execution": {
     "iopub.execute_input": "2021-08-15T06:01:47.551072Z",
     "iopub.status.busy": "2021-08-15T06:01:47.550835Z",
     "iopub.status.idle": "2021-08-15T06:01:47.663779Z",
     "shell.execute_reply": "2021-08-15T06:01:47.662838Z",
     "shell.execute_reply.started": "2021-08-15T06:01:47.551049Z"
    }
   },
   "outputs": [
    {
     "name": "stdout",
     "output_type": "stream",
     "text": [
      "Total number of words:  8238\n",
      "Word: ID\n",
      "------------\n",
      "<oov>:  1\n",
      "Strong:  4\n",
      "And:  8\n",
      "Consumption:  8237\n"
     ]
    }
   ],
   "source": [
    "tokenizer = Tokenizer(oov_token='<oov>') # For those words which are not found in word_index\n",
    "tokenizer.fit_on_texts(medium_data['title'])\n",
    "total_words = len(tokenizer.word_index) + 1\n",
    "\n",
    "print(\"Total number of words: \", total_words)\n",
    "print(\"Word: ID\")\n",
    "print(\"------------\")\n",
    "print(\"<oov>: \", tokenizer.word_index['<oov>'])\n",
    "print(\"Strong: \", tokenizer.word_index['strong'])\n",
    "print(\"And: \", tokenizer.word_index['and'])\n",
    "print(\"Consumption: \", tokenizer.word_index['consumption'])"
   ]
  },
  {
   "cell_type": "code",
   "execution_count": 7,
   "metadata": {
    "execution": {
     "iopub.execute_input": "2021-08-15T06:01:47.665262Z",
     "iopub.status.busy": "2021-08-15T06:01:47.664941Z",
     "iopub.status.idle": "2021-08-15T06:01:47.930099Z",
     "shell.execute_reply": "2021-08-15T06:01:47.929279Z",
     "shell.execute_reply.started": "2021-08-15T06:01:47.665229Z"
    }
   },
   "outputs": [
    {
     "name": "stdout",
     "output_type": "stream",
     "text": [
      "Total input sequences:  48461\n"
     ]
    }
   ],
   "source": [
    "input_sequences = []\n",
    "for line in medium_data['title']:\n",
    "    token_list = tokenizer.texts_to_sequences([line])[0]\n",
    "    #print(token_list)\n",
    "    \n",
    "    for i in range(1, len(token_list)):\n",
    "        n_gram_sequence = token_list[:i+1]\n",
    "        input_sequences.append(n_gram_sequence)\n",
    "\n",
    "# print(input_sequences)\n",
    "print(\"Total input sequences: \", len(input_sequences))"
   ]
  },
  {
   "cell_type": "code",
   "execution_count": 8,
   "metadata": {
    "execution": {
     "iopub.execute_input": "2021-08-15T06:01:47.932372Z",
     "iopub.status.busy": "2021-08-15T06:01:47.932125Z",
     "iopub.status.idle": "2021-08-15T06:01:48.252362Z",
     "shell.execute_reply": "2021-08-15T06:01:48.251427Z",
     "shell.execute_reply.started": "2021-08-15T06:01:47.932348Z"
    }
   },
   "outputs": [
    {
     "data": {
      "text/plain": [
       "array([  0,   0,   0,   0,   0,   0,   0,   0,   0,   0,   0,   0,   0,\n",
       "         0,   0,   0,   0,   0,   0,   0,   0,   0,   0,   0,   0,   0,\n",
       "         0,   0,   0,   0,   0,   0,   0,   0,   0,   0,   0,   5, 676,\n",
       "        68])"
      ]
     },
     "execution_count": 8,
     "metadata": {},
     "output_type": "execute_result"
    }
   ],
   "source": [
    "# pad sequences \n",
    "max_sequence_len = max([len(x) for x in input_sequences])\n",
    "input_sequences = np.array(pad_sequences(input_sequences, maxlen=max_sequence_len, padding='pre'))\n",
    "input_sequences[1]"
   ]
  },
  {
   "cell_type": "code",
   "execution_count": 9,
   "metadata": {
    "execution": {
     "iopub.execute_input": "2021-08-15T06:01:48.254375Z",
     "iopub.status.busy": "2021-08-15T06:01:48.254026Z",
     "iopub.status.idle": "2021-08-15T06:01:48.356166Z",
     "shell.execute_reply": "2021-08-15T06:01:48.355311Z",
     "shell.execute_reply.started": "2021-08-15T06:01:48.254340Z"
    }
   },
   "outputs": [],
   "source": [
    "# create features and label\n",
    "xs, labels = input_sequences[:,:-1],input_sequences[:,-1]\n",
    "ys = tf.keras.utils.to_categorical(labels, num_classes=total_words)"
   ]
  },
  {
   "cell_type": "code",
   "execution_count": 10,
   "metadata": {
    "execution": {
     "iopub.execute_input": "2021-08-15T06:01:48.357852Z",
     "iopub.status.busy": "2021-08-15T06:01:48.357493Z",
     "iopub.status.idle": "2021-08-15T06:01:48.365385Z",
     "shell.execute_reply": "2021-08-15T06:01:48.364265Z",
     "shell.execute_reply.started": "2021-08-15T06:01:48.357816Z"
    }
   },
   "outputs": [
    {
     "name": "stdout",
     "output_type": "stream",
     "text": [
      "[   0    0    0    0    0    0    0    0    0    0    0    0    0    0\n",
      "    0    0    0    0    0    0    0    0    0    0    0    0    0    0\n",
      "    0    0    0    0    0    5  676   68    2  452 1518]\n",
      "14\n",
      "1.0\n"
     ]
    }
   ],
   "source": [
    "print(xs[5])\n",
    "print(labels[5])\n",
    "print(ys[5][14])"
   ]
  },
  {
   "cell_type": "code",
   "execution_count": 11,
   "metadata": {
    "execution": {
     "iopub.execute_input": "2021-08-15T06:01:48.367655Z",
     "iopub.status.busy": "2021-08-15T06:01:48.366921Z",
     "iopub.status.idle": "2021-08-15T06:22:51.089948Z",
     "shell.execute_reply": "2021-08-15T06:22:51.089023Z",
     "shell.execute_reply.started": "2021-08-15T06:01:48.367616Z"
    }
   },
   "outputs": [
    {
     "name": "stdout",
     "output_type": "stream",
     "text": [
      "Epoch 1/50\n"
     ]
    },
    {
     "name": "stderr",
     "output_type": "stream",
     "text": [
      "C:\\Users\\shiva\\anaconda3\\lib\\site-packages\\keras\\optimizer_v2\\adam.py:105: UserWarning: The `lr` argument is deprecated, use `learning_rate` instead.\n",
      "  super(Adam, self).__init__(name, **kwargs)\n"
     ]
    },
    {
     "name": "stdout",
     "output_type": "stream",
     "text": [
      "1515/1515 [==============================] - 52s 34ms/step - loss: 6.7807 - accuracy: 0.1260\n",
      "Epoch 2/50\n",
      "1515/1515 [==============================] - 61s 40ms/step - loss: 5.8105 - accuracy: 0.1740\n",
      "Epoch 3/50\n",
      "1515/1515 [==============================] - 55s 36ms/step - loss: 4.9883 - accuracy: 0.2018\n",
      "Epoch 4/50\n",
      "1515/1515 [==============================] - 48s 32ms/step - loss: 4.2147 - accuracy: 0.2448\n",
      "Epoch 5/50\n",
      "1515/1515 [==============================] - 45s 30ms/step - loss: 3.6372 - accuracy: 0.2962\n",
      "Epoch 6/50\n",
      "1515/1515 [==============================] - 48s 32ms/step - loss: 3.2493 - accuracy: 0.3394\n",
      "Epoch 7/50\n",
      "1515/1515 [==============================] - 51s 34ms/step - loss: 3.0072 - accuracy: 0.3715\n",
      "Epoch 8/50\n",
      "1515/1515 [==============================] - 49s 32ms/step - loss: 2.8107 - accuracy: 0.3970\n",
      "Epoch 9/50\n",
      "1515/1515 [==============================] - 53s 35ms/step - loss: 2.6843 - accuracy: 0.4181\n",
      "Epoch 10/50\n",
      "1515/1515 [==============================] - 48s 32ms/step - loss: 2.6450 - accuracy: 0.4226\n",
      "Epoch 11/50\n",
      "1515/1515 [==============================] - 50s 33ms/step - loss: 2.5900 - accuracy: 0.4297\n",
      "Epoch 12/50\n",
      "1515/1515 [==============================] - 50s 33ms/step - loss: 2.4871 - accuracy: 0.4476\n",
      "Epoch 13/50\n",
      "1515/1515 [==============================] - 45s 30ms/step - loss: 2.4361 - accuracy: 0.4528\n",
      "Epoch 14/50\n",
      "1515/1515 [==============================] - 49s 32ms/step - loss: 2.3872 - accuracy: 0.4617\n",
      "Epoch 15/50\n",
      "1515/1515 [==============================] - 48s 31ms/step - loss: 2.3323 - accuracy: 0.4727\n",
      "Epoch 16/50\n",
      "1515/1515 [==============================] - 48s 32ms/step - loss: 2.3229 - accuracy: 0.4756\n",
      "Epoch 17/50\n",
      "1515/1515 [==============================] - 49s 32ms/step - loss: 2.2996 - accuracy: 0.4772\n",
      "Epoch 18/50\n",
      "1515/1515 [==============================] - 50s 33ms/step - loss: 2.2540 - accuracy: 0.4847\n",
      "Epoch 19/50\n",
      "1515/1515 [==============================] - 50s 33ms/step - loss: 2.2359 - accuracy: 0.4897\n",
      "Epoch 20/50\n",
      "1515/1515 [==============================] - 47s 31ms/step - loss: 2.2294 - accuracy: 0.4911\n",
      "Epoch 21/50\n",
      "1515/1515 [==============================] - 47s 31ms/step - loss: 2.2033 - accuracy: 0.4965\n",
      "Epoch 22/50\n",
      "1515/1515 [==============================] - 48s 32ms/step - loss: 2.1758 - accuracy: 0.5017\n",
      "Epoch 23/50\n",
      "1515/1515 [==============================] - 52s 34ms/step - loss: 2.1683 - accuracy: 0.5007\n",
      "Epoch 24/50\n",
      "1515/1515 [==============================] - 50s 33ms/step - loss: 2.1838 - accuracy: 0.5027\n",
      "Epoch 25/50\n",
      "1515/1515 [==============================] - 48s 32ms/step - loss: 2.1455 - accuracy: 0.5100\n",
      "Epoch 26/50\n",
      "1515/1515 [==============================] - 50s 33ms/step - loss: 2.1315 - accuracy: 0.5135\n",
      "Epoch 27/50\n",
      "1515/1515 [==============================] - 50s 33ms/step - loss: 2.1091 - accuracy: 0.5171\n",
      "Epoch 28/50\n",
      "1515/1515 [==============================] - 49s 32ms/step - loss: 2.1079 - accuracy: 0.5157\n",
      "Epoch 29/50\n",
      "1515/1515 [==============================] - 48s 32ms/step - loss: 2.1276 - accuracy: 0.5122\n",
      "Epoch 30/50\n",
      "1515/1515 [==============================] - 46s 30ms/step - loss: 2.1147 - accuracy: 0.5178\n",
      "Epoch 31/50\n",
      "1515/1515 [==============================] - 48s 31ms/step - loss: 2.1122 - accuracy: 0.5185\n",
      "Epoch 32/50\n",
      "1515/1515 [==============================] - 49s 32ms/step - loss: 2.1224 - accuracy: 0.5179\n",
      "Epoch 33/50\n",
      "1515/1515 [==============================] - 50s 33ms/step - loss: 2.1332 - accuracy: 0.5141\n",
      "Epoch 34/50\n",
      "1515/1515 [==============================] - 56s 37ms/step - loss: 2.0989 - accuracy: 0.5223\n",
      "Epoch 35/50\n",
      "1515/1515 [==============================] - 53s 35ms/step - loss: 2.0851 - accuracy: 0.5244\n",
      "Epoch 36/50\n",
      "1515/1515 [==============================] - 55s 36ms/step - loss: 2.0994 - accuracy: 0.5194\n",
      "Epoch 37/50\n",
      "1515/1515 [==============================] - 49s 33ms/step - loss: 2.1033 - accuracy: 0.5216\n",
      "Epoch 38/50\n",
      "1515/1515 [==============================] - 60s 39ms/step - loss: 2.0918 - accuracy: 0.5245\n",
      "Epoch 39/50\n",
      "1515/1515 [==============================] - 54s 35ms/step - loss: 2.0998 - accuracy: 0.5215\n",
      "Epoch 40/50\n",
      "1515/1515 [==============================] - 53s 35ms/step - loss: 2.0643 - accuracy: 0.5298\n",
      "Epoch 41/50\n",
      "1515/1515 [==============================] - 53s 35ms/step - loss: 2.0628 - accuracy: 0.5300\n",
      "Epoch 42/50\n",
      "1515/1515 [==============================] - 56s 37ms/step - loss: 2.0499 - accuracy: 0.5312\n",
      "Epoch 43/50\n",
      "1515/1515 [==============================] - 57s 37ms/step - loss: 2.0528 - accuracy: 0.5316\n",
      "Epoch 44/50\n",
      "1515/1515 [==============================] - 62s 41ms/step - loss: 2.0594 - accuracy: 0.5299\n",
      "Epoch 45/50\n",
      "1515/1515 [==============================] - 52s 34ms/step - loss: 2.0106 - accuracy: 0.5382\n",
      "Epoch 46/50\n",
      "1515/1515 [==============================] - 52s 35ms/step - loss: 2.0061 - accuracy: 0.5397\n",
      "Epoch 47/50\n",
      "1515/1515 [==============================] - 47s 31ms/step - loss: 2.0161 - accuracy: 0.5398\n",
      "Epoch 48/50\n",
      "1515/1515 [==============================] - 48s 32ms/step - loss: 2.0293 - accuracy: 0.5359\n",
      "Epoch 49/50\n",
      "1515/1515 [==============================] - 50s 33ms/step - loss: 2.0277 - accuracy: 0.5410\n",
      "Epoch 50/50\n",
      "1515/1515 [==============================] - 50s 33ms/step - loss: 1.9981 - accuracy: 0.5421\n",
      "<keras.engine.sequential.Sequential object at 0x00000180DB7C8310>\n"
     ]
    }
   ],
   "source": [
    "model = Sequential()\n",
    "model.add(Embedding(total_words, 100, input_length=max_sequence_len-1))\n",
    "model.add(LSTM(150))\n",
    "model.add(Dense(total_words, activation='softmax'))\n",
    "adam = Adam(lr=0.01)\n",
    "model.compile(loss='categorical_crossentropy', optimizer=adam, metrics=['accuracy'])\n",
    "history = model.fit(xs, ys, epochs=50, verbose=1)\n",
    "#print model.summary()\n",
    "print(model)\n"
   ]
  },
  {
   "cell_type": "code",
   "execution_count": 12,
   "metadata": {
    "execution": {
     "iopub.execute_input": "2021-08-15T06:22:51.092945Z",
     "iopub.status.busy": "2021-08-15T06:22:51.092692Z",
     "iopub.status.idle": "2021-08-15T06:22:51.097521Z",
     "shell.execute_reply": "2021-08-15T06:22:51.096585Z",
     "shell.execute_reply.started": "2021-08-15T06:22:51.092921Z"
    }
   },
   "outputs": [],
   "source": [
    "import matplotlib.pyplot as plt\n",
    "\n",
    "\n",
    "def plot_graphs(history, string):\n",
    "    plt.plot(history.history[string])\n",
    "    plt.xlabel(\"Epochs\")\n",
    "    plt.ylabel(string)\n",
    "    plt.show()"
   ]
  },
  {
   "cell_type": "code",
   "execution_count": 13,
   "metadata": {
    "execution": {
     "iopub.execute_input": "2021-08-15T06:22:51.099252Z",
     "iopub.status.busy": "2021-08-15T06:22:51.098715Z",
     "iopub.status.idle": "2021-08-15T06:22:51.256410Z",
     "shell.execute_reply": "2021-08-15T06:22:51.255568Z",
     "shell.execute_reply.started": "2021-08-15T06:22:51.099215Z"
    }
   },
   "outputs": [
    {
     "data": {
      "image/png": "[encoded data removed]",
      "text/plain": [
       "<Figure size 432x288 with 1 Axes>"
      ]
     },
     "metadata": {
      "needs_background": "light"
     },
     "output_type": "display_data"
    }
   ],
   "source": [
    "plot_graphs(history, 'accuracy')"
   ]
  },
  {
   "cell_type": "code",
   "execution_count": 14,
   "metadata": {
    "execution": {
     "iopub.execute_input": "2021-08-15T06:22:51.257867Z",
     "iopub.status.busy": "2021-08-15T06:22:51.257557Z",
     "iopub.status.idle": "2021-08-15T06:22:51.379243Z",
     "shell.execute_reply": "2021-08-15T06:22:51.378467Z",
     "shell.execute_reply.started": "2021-08-15T06:22:51.257833Z"
    }
   },
   "outputs": [
    {
     "data": {
      "image/png": "[encoded data removed]",
      "text/plain": [
       "<Figure size 432x288 with 1 Axes>"
      ]
     },
     "metadata": {
      "needs_background": "light"
     },
     "output_type": "display_data"
    }
   ],
   "source": [
    "plot_graphs(history, 'loss')"
   ]
  },
  {
   "cell_type": "code",
   "execution_count": 15,
   "metadata": {
    "execution": {
     "iopub.execute_input": "2021-08-15T06:22:51.380838Z",
     "iopub.status.busy": "2021-08-15T06:22:51.380501Z",
     "iopub.status.idle": "2021-08-15T06:22:52.015269Z",
     "shell.execute_reply": "2021-08-15T06:22:52.014289Z",
     "shell.execute_reply.started": "2021-08-15T06:22:51.380802Z"
    }
   },
   "outputs": [
    {
     "name": "stdout",
     "output_type": "stream",
     "text": [
      "Implementation of rnn lstm and\n"
     ]
    }
   ],
   "source": [
    "seed_text = \"Implementation of rnn\"\n",
    "next_words = 2\n",
    "  \n",
    "for _ in range(next_words):\n",
    "    token_list = tokenizer.texts_to_sequences([seed_text])[0]\n",
    "    token_list = pad_sequences([token_list], maxlen=max_sequence_len-1, padding='pre')\n",
    "#     predicted = model.predict_classes(token_list, verbose=0)\n",
    "    predict_x=model.predict(token_list, verbose=0) \n",
    "    classes_x=np.argmax(predict_x,axis=1)\n",
    "    output_word = \"\"\n",
    "    for word, index in tokenizer.word_index.items():\n",
    "        if index == classes_x:\n",
    "            output_word = word\n",
    "            break\n",
    "    seed_text += \" \" + output_word\n",
    "print(seed_text)"
   ]
  },
  {
   "cell_type": "code",
   "execution_count": null,
   "metadata": {},
   "outputs": [],
   "source": []
  },
  {
   "cell_type": "code",
   "execution_count": null,
   "metadata": {},
   "outputs": [],
   "source": []
  },
  {
   "cell_type": "code",
   "execution_count": null,
   "metadata": {},
   "outputs": [],
   "source": []
  }
 ],
 "metadata": {
  "kernelspec": {
   "display_name": "Python 3",
   "language": "python",
   "name": "python3"
  },
  "language_info": {
   "codemirror_mode": {
    "name": "ipython",
    "version": 3
   },
   "file_extension": ".py",
   "mimetype": "text/x-python",
   "name": "python",
   "nbconvert_exporter": "python",
   "pygments_lexer": "ipython3",
   "version": "3.8.8"
  }
 },
 "nbformat": 4,
 "nbformat_minor": 4
}
